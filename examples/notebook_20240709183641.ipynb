{
 "cells": [
  {
   "cell_type": "markdown",
   "isExecuted": true,
   "metadata": {},
   "source": [
    "# My Notebook\n",
    "\n",
    "- Test"
   ]
  },
  {
   "cell_type": "code",
   "execution_count": 1,
   "isExecuted": false,
   "metadata": {},
   "outputs": [],
   "source": [
    "# SparkSession: spark is already created\n",
    "spark"
   ]
  },
  {
   "cell_type": "code",
   "execution_count": null,
   "isExecuted": true,
   "lastExecutionResult": "success",
   "lastExecutionTime": "2024-07-09 10:46:31",
   "metadata": {},
   "outputs": [
    {
     "data": {
      "text/plain": [
       "666"
      ]
     },
     "execution_count": 1,
     "metadata": {},
     "output_type": "execute_result"
    }
   ],
   "source": [
    "666"
   ]
  }
 ],
 "metadata": {
  "kernelspec": {
   "display_name": "Python 3",
   "name": "python3"
  },
  "language_info": {
   "name": "python"
  },
  "uuid": "9fcc2910-7af3-472f-bce3-71ec7e49c9c3"
 },
 "nbformat": 4,
 "nbformat_minor": 4
}
