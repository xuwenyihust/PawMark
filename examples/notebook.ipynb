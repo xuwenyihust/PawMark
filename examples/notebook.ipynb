{
 "cells": [
  {
   "cell_type": "markdown",
   "isExecuted": true,
   "lastExecutionResult": null,
   "lastExecutionTime": null,
   "metadata": {},
   "outputs": [],
   "source": [
    "# My Notebook\n",
    "\n",
    "- Just a demo \n",
    "- By Wenyi Xu"
   ]
  },
  {
   "cell_type": "code",
   "execution_count": null,
   "isExecuted": true,
   "lastExecutionResult": "success",
   "lastExecutionTime": "2024-07-11 03:42:21",
   "metadata": {},
   "outputs": [],
   "source": [
    "import numpy as np\n",
    "import pandas as pd"
   ]
  },
  {
   "cell_type": "code",
   "execution_count": null,
   "isExecuted": true,
   "lastExecutionResult": "error",
   "lastExecutionTime": "2024-07-11 03:42:21",
   "metadata": {},
   "outputs": [
    {
     "ename": "NameError",
     "evalue": "name 'pd' is not defined",
     "output_type": "error",
     "traceback": [
      "\u001b[0;31m---------------------------------------------------------------------------\u001b[0m",
      "\u001b[0;31mNameError\u001b[0m                                 Traceback (most recent call last)",
      "Cell \u001b[0;32mIn[1], line 1\u001b[0m\n\u001b[0;32m----> 1\u001b[0m s \u001b[38;5;241m=\u001b[39m \u001b[43mpd\u001b[49m\u001b[38;5;241m.\u001b[39mSeries([\u001b[38;5;241m1\u001b[39m, \u001b[38;5;241m3\u001b[39m, \u001b[38;5;241m5\u001b[39m, np\u001b[38;5;241m.\u001b[39mnan, \u001b[38;5;241m6\u001b[39m, \u001b[38;5;241m8\u001b[39m])\n\u001b[1;32m      2\u001b[0m s\n",
      "\u001b[0;31mNameError\u001b[0m: name 'pd' is not defined"
     ]
    }
   ],
   "source": [
    "s = pd.Series([1, 3, 5, np.nan, 6, 8])\n",
    "s"
   ]
  },
  {
   "cell_type": "code",
   "execution_count": 1,
   "isExecuted": true,
   "lastExecutionResult": "error",
   "lastExecutionTime": "2024-07-11 03:42:31",
   "metadata": {},
   "outputs": [
    {
     "ename": "NameError",
     "evalue": "name 'qegnvoign' is not defined",
     "output_type": "error",
     "traceback": [
      "\u001b[0;31m---------------------------------------------------------------------------\u001b[0m",
      "\u001b[0;31mNameError\u001b[0m                                 Traceback (most recent call last)",
      "Cell \u001b[0;32mIn[2], line 1\u001b[0m\n\u001b[0;32m----> 1\u001b[0m \u001b[38;5;28mprint\u001b[39m(\u001b[43mqegnvoign\u001b[49m)          \n",
      "\u001b[0;31mNameError\u001b[0m: name 'qegnvoign' is not defined"
     ]
    }
   ],
   "source": [
    "print(qegnvoign)          "
   ]
  },
  {
   "cell_type": "code",
   "execution_count": null,
   "isExecuted": true,
   "lastExecutionResult": "success",
   "lastExecutionTime": "2024-07-11 03:42:21",
   "metadata": {},
   "outputs": [],
   "source": [
    "import time\n",
    "time.sleep(20)"
   ]
  },
  {
   "cell_type": "code",
   "execution_count": null,
   "isExecuted": false,
   "lastExecutionResult": "success",
   "lastExecutionTime": "2024-06-24 08:59:47",
   "metadata": {},
   "outputs": [
    {
     "name": "stdout",
     "output_type": "stream",
     "text": [
      "222\n"
     ]
    }
   ],
   "source": [
    "print(222)"
   ]
  },
  {
   "cell_type": "code",
   "execution_count": null,
   "isExecuted": false,
   "lastExecutionResult": "success",
   "lastExecutionTime": "2024-06-24 08:59:47",
   "metadata": {},
   "outputs": [
    {
     "name": "stdout",
     "output_type": "stream",
     "text": [
      "333\n"
     ]
    }
   ],
   "source": [
    "print(333)"
   ]
  }
 ],
 "metadata": {
  "kernelspec": {
   "display_name": "Python 3 (ipykernel)",
   "language": "python",
   "name": "python3"
  },
  "language_info": {
   "codemirror_mode": {
    "name": "ipython",
    "version": 3
   },
   "file_extension": ".py",
   "mimetype": "text/x-python",
   "name": "python",
   "nbconvert_exporter": "python",
   "pygments_lexer": "ipython3",
   "version": "3.11.6"
  },
  "uuid": "15a9f9b0-5f3f-4318-ab4f-0ede0ffa933a"
 },
 "nbformat": 4,
 "nbformat_minor": 4
}
