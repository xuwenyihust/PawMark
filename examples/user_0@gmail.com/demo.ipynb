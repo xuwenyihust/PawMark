{
 "cells": [
  {
   "cell_type": "markdown",
   "isExecuted": true,
   "metadata": {},
   "source": [
    "# Demo Notebook\n",
    "\n",
    "- This is just a demo notebook\n",
    "- For testing only"
   ]
  },
  {
   "cell_type": "code",
   "execution_count": null,
   "isExecuted": false,
   "metadata": {},
   "outputs": [
    {
     "data": {
      "text/html": [
       "\n",
       "        <div style=\"border: 1px solid #e8e8e8; padding: 10px;\">\n",
       "            <h3>Spark Session Information</h3>\n",
       "            <p><strong>Application ID:</strong> app-20240524025820-0003</p>\n",
       "            <p><strong>Spark UI:</strong> <a href=\"http://localhost:18080/history/app-20240524025820-0003\">http://localhost:18080/history/app-20240524025820-0003</a></p>\n",
       "        </div>\n",
       "        "
      ],
      "text/plain": [
       "Custom Spark Session (App ID: app-20240524025820-0003) - UI: http://185cae7f8c46:4040"
      ]
     },
     "execution_count": 1,
     "metadata": {},
     "output_type": "execute_result"
    }
   ],
   "source": [
    "# SparkSession is already defined in `spark` variable\n",
    "spark"
   ]
  },
  {
   "cell_type": "code",
   "execution_count": 1,
   "isExecuted": false,
   "metadata": {},
   "outputs": [
    {
     "ename": "NameError",
     "evalue": "name 'a' is not defined",
     "output_type": "error",
     "traceback": [
      "\u001b[0;31m---------------------------------------------------------------------------\u001b[0m",
      "\u001b[0;31mNameError\u001b[0m                                 Traceback (most recent call last)",
      "Cell \u001b[0;32mIn[1], line 1\u001b[0m\n\u001b[0;32m----> 1\u001b[0m \u001b[38;5;28mprint\u001b[39m(\u001b[43ma\u001b[49m \u001b[38;5;241m+\u001b[39m \u001b[38;5;124m\"\u001b[39m\u001b[38;5;124m2233666777888\u001b[39m\u001b[38;5;124m\"\u001b[39m)\n",
      "\u001b[0;31mNameError\u001b[0m: name 'a' is not defined"
     ]
    }
   ],
   "source": [
    "print(a + \"2233666777888\")"
   ]
  },
  {
   "cell_type": "code",
   "execution_count": null,
   "isExecuted": false,
   "metadata": {},
   "outputs": [
    {
     "name": "stdout",
     "output_type": "stream",
     "text": [
      "66\n",
      "77\n"
     ]
    }
   ],
   "source": [
    "print(66)\n",
    "print(77)"
   ]
  }
 ],
 "metadata": {
  "kernelspec": {
   "display_name": "Python 3 (ipykernel)",
   "language": "python",
   "name": "python3"
  },
  "language_info": {
   "codemirror_mode": {
    "name": "ipython",
    "version": 3
   },
   "file_extension": ".py",
   "mimetype": "text/x-python",
   "name": "python",
   "nbconvert_exporter": "python",
   "pygments_lexer": "ipython3",
   "version": "3.11.6"
  },
  "uuid": "647a82de-693a-48f0-ae3a-64a771d83da5"
 },
 "nbformat": 4,
 "nbformat_minor": 4
}
